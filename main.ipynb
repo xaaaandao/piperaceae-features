{
 "cells": [
  {
   "cell_type": "code",
   "execution_count": 3,
   "metadata": {
    "collapsed": true,
    "ExecuteTime": {
     "start_time": "2023-04-26T19:52:08.843111Z",
     "end_time": "2023-04-26T19:52:09.003644Z"
    }
   },
   "outputs": [],
   "source": [
    "import tensorflow as tf\n",
    "import skimage.io\n",
    "from PIL import Image"
   ]
  },
  {
   "cell_type": "code",
   "execution_count": 9,
   "outputs": [
    {
     "name": "stderr",
     "output_type": "stream",
     "text": [
      "/tmp/ipykernel_75980/3979202145.py:6: UserWarning: test.png is a low contrast image\n",
      "  skimage.io.imsave('test.png', image)\n"
     ]
    }
   ],
   "source": [
    "# def set_color_mode_background(background, cfg):\n",
    "#     return background.convert('RGB') if image_is_rgb(cfg) else background.convert('L')\n",
    "\n",
    "import numpy as np\n",
    "import opencv\n",
    "\n",
    "\n",
    "\n",
    "# background = Image.new('RGBA', (256, 256), 'WHITE')\n",
    "# background_width, background_height = background.size\n",
    "# image_width = 256\n",
    "# image_height = 256\n",
    "# offset = ((background_width - image_width) // 2, (background_height - image_height) // 2)\n",
    "# background.paste(image, offset, image)\n",
    "# # # filename = os.path.join(path, 'w_pred_mask', str(list_images_names[index].stem) + '.jpeg')\n",
    "# background = background.convert('RGB')\n",
    "# background.save('test.png', format='png')"
   ],
   "metadata": {
    "collapsed": false,
    "ExecuteTime": {
     "start_time": "2023-04-26T19:55:51.457905Z",
     "end_time": "2023-04-26T19:55:51.503037Z"
    }
   }
  },
  {
   "cell_type": "code",
   "execution_count": null,
   "outputs": [],
   "source": [],
   "metadata": {
    "collapsed": false
   }
  }
 ],
 "metadata": {
  "kernelspec": {
   "display_name": "Python 3",
   "language": "python",
   "name": "python3"
  },
  "language_info": {
   "codemirror_mode": {
    "name": "ipython",
    "version": 2
   },
   "file_extension": ".py",
   "mimetype": "text/x-python",
   "name": "python",
   "nbconvert_exporter": "python",
   "pygments_lexer": "ipython2",
   "version": "2.7.6"
  }
 },
 "nbformat": 4,
 "nbformat_minor": 0
}
